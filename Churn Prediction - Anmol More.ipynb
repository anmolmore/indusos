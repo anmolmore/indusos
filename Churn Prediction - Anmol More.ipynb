{
 "cells": [
  {
   "cell_type": "code",
   "execution_count": 1,
   "id": "abbd428b",
   "metadata": {},
   "outputs": [],
   "source": [
    "import pandas as pd\n",
    "import numpy as np\n",
    "\n",
    "import matplotlib.pyplot as plt\n",
    "import seaborn as sns\n",
    "\n",
    "from collections import Counter\n",
    "\n",
    "from sklearn.preprocessing import StandardScaler\n",
    "\n",
    "from sklearn.linear_model import LogisticRegression\n",
    "from sklearn.ensemble import RandomForestClassifier\n",
    "from sklearn.svm import LinearSVC, SVC\n",
    "from sklearn.neighbors import KNeighborsClassifier\n",
    "from sklearn.tree import DecisionTreeClassifier\n",
    "\n",
    "from sklearn.metrics import confusion_matrix, roc_curve, auc, precision_recall_fscore_support, ConfusionMatrixDisplay\n",
    "from sklearn.model_selection import train_test_split, GridSearchCV\n",
    "\n",
    "from imblearn.ensemble import BalancedRandomForestClassifier, BalancedBaggingClassifier"
   ]
  },
  {
   "cell_type": "markdown",
   "id": "04729796",
   "metadata": {},
   "source": [
    "## Read Data"
   ]
  },
  {
   "cell_type": "code",
   "execution_count": 2,
   "id": "0ea3ca2b",
   "metadata": {},
   "outputs": [
    {
     "name": "stdout",
     "output_type": "stream",
     "text": [
      "(45000, 112)\n"
     ]
    },
    {
     "data": {
      "text/html": [
       "<div>\n",
       "<style scoped>\n",
       "    .dataframe tbody tr th:only-of-type {\n",
       "        vertical-align: middle;\n",
       "    }\n",
       "\n",
       "    .dataframe tbody tr th {\n",
       "        vertical-align: top;\n",
       "    }\n",
       "\n",
       "    .dataframe thead th {\n",
       "        text-align: right;\n",
       "    }\n",
       "</style>\n",
       "<table border=\"1\" class=\"dataframe\">\n",
       "  <thead>\n",
       "    <tr style=\"text-align: right;\">\n",
       "      <th></th>\n",
       "      <th>userID</th>\n",
       "      <th>Contact_ind</th>\n",
       "      <th>Customer_status</th>\n",
       "      <th>ActiveSinceDays</th>\n",
       "      <th>num_AcD_m0</th>\n",
       "      <th>num_AcD_m1</th>\n",
       "      <th>r_AcD_m0_m12</th>\n",
       "      <th>r_AcD_m0_m123</th>\n",
       "      <th>daystofirstload</th>\n",
       "      <th>dayssincelastload</th>\n",
       "      <th>...</th>\n",
       "      <th>InAllRev_m1</th>\n",
       "      <th>InAllRev_m2</th>\n",
       "      <th>r_InAllRev_m0_m1</th>\n",
       "      <th>r_InAllRev_m0_m2</th>\n",
       "      <th>tot_InAllRev_3m</th>\n",
       "      <th>OgAllRev_m0</th>\n",
       "      <th>OgAllRev_m1</th>\n",
       "      <th>OgAllRev_m2</th>\n",
       "      <th>tot_OgAllRev_3m</th>\n",
       "      <th>targetid</th>\n",
       "    </tr>\n",
       "  </thead>\n",
       "  <tbody>\n",
       "    <tr>\n",
       "      <th>13762</th>\n",
       "      <td>18763.0</td>\n",
       "      <td>1.0</td>\n",
       "      <td>3.0</td>\n",
       "      <td>1055.0</td>\n",
       "      <td>4.0</td>\n",
       "      <td>8.0</td>\n",
       "      <td>61.538462</td>\n",
       "      <td>75.000000</td>\n",
       "      <td>73.0</td>\n",
       "      <td>144.0</td>\n",
       "      <td>...</td>\n",
       "      <td>0.0</td>\n",
       "      <td>449.00</td>\n",
       "      <td>0.000000</td>\n",
       "      <td>0.000000</td>\n",
       "      <td>449.00</td>\n",
       "      <td>653.00</td>\n",
       "      <td>787.00</td>\n",
       "      <td>788.00</td>\n",
       "      <td>2228.00</td>\n",
       "      <td>0.0</td>\n",
       "    </tr>\n",
       "    <tr>\n",
       "      <th>23341</th>\n",
       "      <td>28342.0</td>\n",
       "      <td>1.0</td>\n",
       "      <td>3.0</td>\n",
       "      <td>593.0</td>\n",
       "      <td>1.0</td>\n",
       "      <td>2.0</td>\n",
       "      <td>40.000000</td>\n",
       "      <td>42.857143</td>\n",
       "      <td>0.0</td>\n",
       "      <td>95.0</td>\n",
       "      <td>...</td>\n",
       "      <td>100.0</td>\n",
       "      <td>0.00</td>\n",
       "      <td>891.089109</td>\n",
       "      <td>90000.000000</td>\n",
       "      <td>1000.00</td>\n",
       "      <td>1154.01</td>\n",
       "      <td>0.00</td>\n",
       "      <td>110.21</td>\n",
       "      <td>1264.22</td>\n",
       "      <td>0.0</td>\n",
       "    </tr>\n",
       "    <tr>\n",
       "      <th>23160</th>\n",
       "      <td>28161.0</td>\n",
       "      <td>1.0</td>\n",
       "      <td>3.0</td>\n",
       "      <td>107.0</td>\n",
       "      <td>1.0</td>\n",
       "      <td>5.0</td>\n",
       "      <td>25.000000</td>\n",
       "      <td>37.500000</td>\n",
       "      <td>12.0</td>\n",
       "      <td>119.0</td>\n",
       "      <td>...</td>\n",
       "      <td>500.0</td>\n",
       "      <td>0.00</td>\n",
       "      <td>0.000000</td>\n",
       "      <td>0.000000</td>\n",
       "      <td>500.00</td>\n",
       "      <td>19.00</td>\n",
       "      <td>415.00</td>\n",
       "      <td>857.00</td>\n",
       "      <td>1291.00</td>\n",
       "      <td>0.0</td>\n",
       "    </tr>\n",
       "    <tr>\n",
       "      <th>36429</th>\n",
       "      <td>41430.0</td>\n",
       "      <td>1.0</td>\n",
       "      <td>3.0</td>\n",
       "      <td>477.0</td>\n",
       "      <td>4.0</td>\n",
       "      <td>5.0</td>\n",
       "      <td>80.000000</td>\n",
       "      <td>100.000000</td>\n",
       "      <td>0.0</td>\n",
       "      <td>70.0</td>\n",
       "      <td>...</td>\n",
       "      <td>1792.0</td>\n",
       "      <td>1106.00</td>\n",
       "      <td>75.348578</td>\n",
       "      <td>122.041554</td>\n",
       "      <td>4249.00</td>\n",
       "      <td>1368.00</td>\n",
       "      <td>2562.00</td>\n",
       "      <td>1432.00</td>\n",
       "      <td>5362.00</td>\n",
       "      <td>1.0</td>\n",
       "    </tr>\n",
       "    <tr>\n",
       "      <th>15168</th>\n",
       "      <td>20169.0</td>\n",
       "      <td>1.0</td>\n",
       "      <td>4.0</td>\n",
       "      <td>194.0</td>\n",
       "      <td>3.0</td>\n",
       "      <td>2.0</td>\n",
       "      <td>150.000000</td>\n",
       "      <td>180.000000</td>\n",
       "      <td>5.0</td>\n",
       "      <td>169.0</td>\n",
       "      <td>...</td>\n",
       "      <td>0.0</td>\n",
       "      <td>0.00</td>\n",
       "      <td>0.000000</td>\n",
       "      <td>0.000000</td>\n",
       "      <td>0.00</td>\n",
       "      <td>879.00</td>\n",
       "      <td>1198.00</td>\n",
       "      <td>1500.00</td>\n",
       "      <td>3577.00</td>\n",
       "      <td>0.0</td>\n",
       "    </tr>\n",
       "    <tr>\n",
       "      <th>27597</th>\n",
       "      <td>32598.0</td>\n",
       "      <td>1.0</td>\n",
       "      <td>3.0</td>\n",
       "      <td>208.0</td>\n",
       "      <td>3.0</td>\n",
       "      <td>0.0</td>\n",
       "      <td>300.000000</td>\n",
       "      <td>180.000000</td>\n",
       "      <td>0.0</td>\n",
       "      <td>149.0</td>\n",
       "      <td>...</td>\n",
       "      <td>0.0</td>\n",
       "      <td>456.00</td>\n",
       "      <td>0.000000</td>\n",
       "      <td>0.000000</td>\n",
       "      <td>456.00</td>\n",
       "      <td>1018.00</td>\n",
       "      <td>0.00</td>\n",
       "      <td>458.00</td>\n",
       "      <td>1476.00</td>\n",
       "      <td>0.0</td>\n",
       "    </tr>\n",
       "    <tr>\n",
       "      <th>3417</th>\n",
       "      <td>8418.0</td>\n",
       "      <td>0.0</td>\n",
       "      <td>2.0</td>\n",
       "      <td>105.0</td>\n",
       "      <td>1.0</td>\n",
       "      <td>3.0</td>\n",
       "      <td>40.000000</td>\n",
       "      <td>60.000000</td>\n",
       "      <td>28.0</td>\n",
       "      <td>101.0</td>\n",
       "      <td>...</td>\n",
       "      <td>5000.0</td>\n",
       "      <td>10.00</td>\n",
       "      <td>0.000000</td>\n",
       "      <td>0.000000</td>\n",
       "      <td>5010.00</td>\n",
       "      <td>398.00</td>\n",
       "      <td>1729.00</td>\n",
       "      <td>10.00</td>\n",
       "      <td>2137.00</td>\n",
       "      <td>0.0</td>\n",
       "    </tr>\n",
       "    <tr>\n",
       "      <th>8655</th>\n",
       "      <td>13656.0</td>\n",
       "      <td>1.0</td>\n",
       "      <td>3.0</td>\n",
       "      <td>230.0</td>\n",
       "      <td>3.0</td>\n",
       "      <td>4.0</td>\n",
       "      <td>50.000000</td>\n",
       "      <td>47.368421</td>\n",
       "      <td>5.0</td>\n",
       "      <td>11.0</td>\n",
       "      <td>...</td>\n",
       "      <td>2188.0</td>\n",
       "      <td>49.17</td>\n",
       "      <td>31.978072</td>\n",
       "      <td>1395.256129</td>\n",
       "      <td>2937.17</td>\n",
       "      <td>773.00</td>\n",
       "      <td>2167.00</td>\n",
       "      <td>3768.00</td>\n",
       "      <td>6708.00</td>\n",
       "      <td>0.0</td>\n",
       "    </tr>\n",
       "    <tr>\n",
       "      <th>43812</th>\n",
       "      <td>48813.0</td>\n",
       "      <td>1.0</td>\n",
       "      <td>3.0</td>\n",
       "      <td>713.0</td>\n",
       "      <td>19.0</td>\n",
       "      <td>20.0</td>\n",
       "      <td>80.851064</td>\n",
       "      <td>80.281690</td>\n",
       "      <td>8.0</td>\n",
       "      <td>3.0</td>\n",
       "      <td>...</td>\n",
       "      <td>4660.0</td>\n",
       "      <td>6759.00</td>\n",
       "      <td>57.069298</td>\n",
       "      <td>39.349112</td>\n",
       "      <td>14079.00</td>\n",
       "      <td>3321.00</td>\n",
       "      <td>4339.00</td>\n",
       "      <td>6803.00</td>\n",
       "      <td>14463.00</td>\n",
       "      <td>0.0</td>\n",
       "    </tr>\n",
       "    <tr>\n",
       "      <th>12283</th>\n",
       "      <td>17284.0</td>\n",
       "      <td>1.0</td>\n",
       "      <td>3.0</td>\n",
       "      <td>598.0</td>\n",
       "      <td>16.0</td>\n",
       "      <td>14.0</td>\n",
       "      <td>118.518518</td>\n",
       "      <td>126.315789</td>\n",
       "      <td>0.0</td>\n",
       "      <td>31.0</td>\n",
       "      <td>...</td>\n",
       "      <td>33944.0</td>\n",
       "      <td>10508.00</td>\n",
       "      <td>139.784946</td>\n",
       "      <td>451.517747</td>\n",
       "      <td>91902.00</td>\n",
       "      <td>46447.53</td>\n",
       "      <td>30915.35</td>\n",
       "      <td>11125.31</td>\n",
       "      <td>88488.19</td>\n",
       "      <td>0.0</td>\n",
       "    </tr>\n",
       "  </tbody>\n",
       "</table>\n",
       "<p>10 rows × 112 columns</p>\n",
       "</div>"
      ],
      "text/plain": [
       "        userID  Contact_ind  Customer_status  ActiveSinceDays  num_AcD_m0  \\\n",
       "13762  18763.0          1.0              3.0           1055.0         4.0   \n",
       "23341  28342.0          1.0              3.0            593.0         1.0   \n",
       "23160  28161.0          1.0              3.0            107.0         1.0   \n",
       "36429  41430.0          1.0              3.0            477.0         4.0   \n",
       "15168  20169.0          1.0              4.0            194.0         3.0   \n",
       "27597  32598.0          1.0              3.0            208.0         3.0   \n",
       "3417    8418.0          0.0              2.0            105.0         1.0   \n",
       "8655   13656.0          1.0              3.0            230.0         3.0   \n",
       "43812  48813.0          1.0              3.0            713.0        19.0   \n",
       "12283  17284.0          1.0              3.0            598.0        16.0   \n",
       "\n",
       "       num_AcD_m1  r_AcD_m0_m12  r_AcD_m0_m123  daystofirstload  \\\n",
       "13762         8.0     61.538462      75.000000             73.0   \n",
       "23341         2.0     40.000000      42.857143              0.0   \n",
       "23160         5.0     25.000000      37.500000             12.0   \n",
       "36429         5.0     80.000000     100.000000              0.0   \n",
       "15168         2.0    150.000000     180.000000              5.0   \n",
       "27597         0.0    300.000000     180.000000              0.0   \n",
       "3417          3.0     40.000000      60.000000             28.0   \n",
       "8655          4.0     50.000000      47.368421              5.0   \n",
       "43812        20.0     80.851064      80.281690              8.0   \n",
       "12283        14.0    118.518518     126.315789              0.0   \n",
       "\n",
       "       dayssincelastload  ...  InAllRev_m1  InAllRev_m2  r_InAllRev_m0_m1  \\\n",
       "13762              144.0  ...          0.0       449.00          0.000000   \n",
       "23341               95.0  ...        100.0         0.00        891.089109   \n",
       "23160              119.0  ...        500.0         0.00          0.000000   \n",
       "36429               70.0  ...       1792.0      1106.00         75.348578   \n",
       "15168              169.0  ...          0.0         0.00          0.000000   \n",
       "27597              149.0  ...          0.0       456.00          0.000000   \n",
       "3417               101.0  ...       5000.0        10.00          0.000000   \n",
       "8655                11.0  ...       2188.0        49.17         31.978072   \n",
       "43812                3.0  ...       4660.0      6759.00         57.069298   \n",
       "12283               31.0  ...      33944.0     10508.00        139.784946   \n",
       "\n",
       "       r_InAllRev_m0_m2  tot_InAllRev_3m  OgAllRev_m0  OgAllRev_m1  \\\n",
       "13762          0.000000           449.00       653.00       787.00   \n",
       "23341      90000.000000          1000.00      1154.01         0.00   \n",
       "23160          0.000000           500.00        19.00       415.00   \n",
       "36429        122.041554          4249.00      1368.00      2562.00   \n",
       "15168          0.000000             0.00       879.00      1198.00   \n",
       "27597          0.000000           456.00      1018.00         0.00   \n",
       "3417           0.000000          5010.00       398.00      1729.00   \n",
       "8655        1395.256129          2937.17       773.00      2167.00   \n",
       "43812         39.349112         14079.00      3321.00      4339.00   \n",
       "12283        451.517747         91902.00     46447.53     30915.35   \n",
       "\n",
       "       OgAllRev_m2  tot_OgAllRev_3m  targetid  \n",
       "13762       788.00          2228.00       0.0  \n",
       "23341       110.21          1264.22       0.0  \n",
       "23160       857.00          1291.00       0.0  \n",
       "36429      1432.00          5362.00       1.0  \n",
       "15168      1500.00          3577.00       0.0  \n",
       "27597       458.00          1476.00       0.0  \n",
       "3417         10.00          2137.00       0.0  \n",
       "8655       3768.00          6708.00       0.0  \n",
       "43812      6803.00         14463.00       0.0  \n",
       "12283     11125.31         88488.19       0.0  \n",
       "\n",
       "[10 rows x 112 columns]"
      ]
     },
     "execution_count": 2,
     "metadata": {},
     "output_type": "execute_result"
    }
   ],
   "source": [
    "df = pd.read_excel('DS_Assignment.xlsx')\n",
    "print(df.shape)\n",
    "df.sample(10)"
   ]
  },
  {
   "cell_type": "markdown",
   "id": "a58d8962",
   "metadata": {},
   "source": [
    "## EDA"
   ]
  },
  {
   "cell_type": "code",
   "execution_count": 3,
   "id": "89d49599",
   "metadata": {},
   "outputs": [
    {
     "name": "stdout",
     "output_type": "stream",
     "text": [
      "No object types detected\n"
     ]
    }
   ],
   "source": [
    "# check if any column is interepreted as object, it looks like everything is numerical\n",
    "try :\n",
    "    object_cols = df.describe(include=object)\n",
    "except Exception as e :\n",
    "    print(\"No object types detected\")"
   ]
  },
  {
   "cell_type": "markdown",
   "id": "3f77fcae",
   "metadata": {},
   "source": [
    "### check class imbalance"
   ]
  },
  {
   "cell_type": "code",
   "execution_count": 4,
   "id": "7aee5ae6",
   "metadata": {},
   "outputs": [
    {
     "data": {
      "text/plain": [
       "0.0    35833\n",
       "1.0     9167\n",
       "Name: targetid, dtype: int64"
      ]
     },
     "execution_count": 4,
     "metadata": {},
     "output_type": "execute_result"
    }
   ],
   "source": [
    "# There is class imblanace with 75 - 25 % ratio between churn and not churn\n",
    "df.targetid.value_counts()"
   ]
  },
  {
   "cell_type": "markdown",
   "id": "da4861fe",
   "metadata": {},
   "source": [
    "### Do some basic sanity checks"
   ]
  },
  {
   "cell_type": "markdown",
   "id": "ead3bbdb",
   "metadata": {},
   "source": [
    "#### Check null values\n",
    "- six columns have null values\n",
    "- Some cells with values 999 or negative number might be missing values"
   ]
  },
  {
   "cell_type": "code",
   "execution_count": 5,
   "id": "85c306ad",
   "metadata": {},
   "outputs": [
    {
     "data": {
      "text/plain": [
       "r_avg_max_rechX_m2    12672\n",
       "r_avg_max_rtlX_m2     11418\n",
       "r_avg_max_rtlX_m1     11162\n",
       "r_avg_max_rechX_m1    10519\n",
       "r_avg_max_rtlX_m0      9805\n",
       "r_avg_max_rechX_m0     6199\n",
       "tot_billX_amt_m012        0\n",
       "billX_amt_m2              0\n",
       "billX_amt_m1              0\n",
       "billX_amt_m0              0\n",
       "dtype: int64"
      ]
     },
     "execution_count": 5,
     "metadata": {},
     "output_type": "execute_result"
    }
   ],
   "source": [
    "df.isna().sum().sort_values(ascending=False)[:10]"
   ]
  },
  {
   "cell_type": "markdown",
   "id": "a1c4a4fa",
   "metadata": {},
   "source": [
    "#### check for duplicate values "
   ]
  },
  {
   "cell_type": "code",
   "execution_count": 6,
   "id": "774c344a",
   "metadata": {},
   "outputs": [
    {
     "data": {
      "text/html": [
       "<div>\n",
       "<style scoped>\n",
       "    .dataframe tbody tr th:only-of-type {\n",
       "        vertical-align: middle;\n",
       "    }\n",
       "\n",
       "    .dataframe tbody tr th {\n",
       "        vertical-align: top;\n",
       "    }\n",
       "\n",
       "    .dataframe thead th {\n",
       "        text-align: right;\n",
       "    }\n",
       "</style>\n",
       "<table border=\"1\" class=\"dataframe\">\n",
       "  <thead>\n",
       "    <tr style=\"text-align: right;\">\n",
       "      <th></th>\n",
       "      <th>userID</th>\n",
       "      <th>Contact_ind</th>\n",
       "      <th>Customer_status</th>\n",
       "      <th>ActiveSinceDays</th>\n",
       "      <th>num_AcD_m0</th>\n",
       "      <th>num_AcD_m1</th>\n",
       "      <th>r_AcD_m0_m12</th>\n",
       "      <th>r_AcD_m0_m123</th>\n",
       "      <th>daystofirstload</th>\n",
       "      <th>dayssincelastload</th>\n",
       "      <th>...</th>\n",
       "      <th>InAllRev_m1</th>\n",
       "      <th>InAllRev_m2</th>\n",
       "      <th>r_InAllRev_m0_m1</th>\n",
       "      <th>r_InAllRev_m0_m2</th>\n",
       "      <th>tot_InAllRev_3m</th>\n",
       "      <th>OgAllRev_m0</th>\n",
       "      <th>OgAllRev_m1</th>\n",
       "      <th>OgAllRev_m2</th>\n",
       "      <th>tot_OgAllRev_3m</th>\n",
       "      <th>targetid</th>\n",
       "    </tr>\n",
       "  </thead>\n",
       "  <tbody>\n",
       "  </tbody>\n",
       "</table>\n",
       "<p>0 rows × 112 columns</p>\n",
       "</div>"
      ],
      "text/plain": [
       "Empty DataFrame\n",
       "Columns: [userID, Contact_ind, Customer_status, ActiveSinceDays, num_AcD_m0, num_AcD_m1, r_AcD_m0_m12, r_AcD_m0_m123, daystofirstload, dayssincelastload, tot_RevUo_m0, tot_RevUo_m1, tot_RevUo_m2, r_tot_RevUo_m0_m1, r_tot_RevUo_m1_m2, r_tot_RevUo_m0_m12, avg_RevUo_m0, avg_RevUo_m1, avg_RevUo_m2, chg_RevUo_l0_1m, chg_RevUo_l1_2m, chg_RevUo_l2_3m, tot_LdCnt_m0, tot_LdCnt_m1, tot_LdCnt_m2, max_RevUo_m0, max_RevUo_m1, max_RevUo_m2, r_avg_RevUo_m0_m1, r_avg_RevUo_m1_m2, avgdays_btw_loads_l6, tot_failed_LdTxnCnt_3m, r_failed_LdTxnCnt_m0_m12, tot_rtlX_m0, tot_rtlX_m1, tot_rtlX_m2, r_tot_rtlX_m0_m1, r_tot_rtlX_m1_m2, r_tot_rtlX_m0_m12, avg_rtlX_m0, avg_rtlX_m1, avg_rtlX_m2, max_rtlX_m0, max_rtlX_m1, max_rtlX_m2, r_avg_max_rtlX_m0, r_avg_max_rtlX_m1, r_avg_max_rtlX_m2, RtlTxns_cnt_m0, RtlTxns_cnt_m1, RtlTxns_cnt_m2, r_RtlTxns_cnt_m0_m1, r_RtlTxns_cnt_m1_m2, sum_r_RtlTxns_cnt, fail_RtlTxncnt_m0, RtlTxn_dayscnt_m0, RtlTxn_dayscnt_m1, RtlTxn_dayscnt_m2, tot_rechX_m0, tot_rechX_m1, tot_rechX_m2, chg_rechX_l0_1m, chg_rechX_l1_2m, avg_rechX_m0, avg_rechX_m1, avg_rechX_m2, max_rechX_m0, max_rechX_m1, max_rechX_m2, r_avg_max_rechX_m0, r_avg_max_rechX_m1, r_avg_max_rechX_m2, rechtxns_cnt_m0, rechtxns_cnt_m1, rechtxns_cnt_m2, rechtxn_dayscnt_m0, rechtxn_dayscnt_m1, rechtxn_dayscnt_m2, billX_amt_m0, billX_amt_m1, billX_amt_m2, tot_billX_amt_m012, r_billX_amt_m0_m1, r_billX_amt_m0_m12, r_billX_amt_m1_m2, billX_cnt_m0, billX_cnt_m1, billX_cnt_m2, rech_amt_m0, rech_amt_m1, rech_amt_m2, r_rech_amt_m0_m1, r_rech_amt_m1_m2, sum_r_rech_amt_m1m2_m0m1, r_rech_amt_m0_m12, avgbal_m0, avgbal_m1, avgbal_m2, resolved_cnt_m2, tot_resolved_cnt_m012, ...]\n",
       "Index: []\n",
       "\n",
       "[0 rows x 112 columns]"
      ]
     },
     "execution_count": 6,
     "metadata": {},
     "output_type": "execute_result"
    }
   ],
   "source": [
    "duplicate = df[df.duplicated()]\n",
    "duplicate"
   ]
  },
  {
   "cell_type": "code",
   "execution_count": 7,
   "id": "0ee27a36",
   "metadata": {},
   "outputs": [
    {
     "data": {
      "text/plain": [
       "Series([], Name: userID, dtype: float64)"
      ]
     },
     "execution_count": 7,
     "metadata": {},
     "output_type": "execute_result"
    }
   ],
   "source": [
    "#check for duplicate userId rows\n",
    "duplicate = df['userID'][df['userID'].duplicated()]\n",
    "duplicate"
   ]
  },
  {
   "cell_type": "markdown",
   "id": "f77a8c60",
   "metadata": {},
   "source": [
    "## Data Preparation"
   ]
  },
  {
   "cell_type": "code",
   "execution_count": 8,
   "id": "9ef4e857",
   "metadata": {},
   "outputs": [],
   "source": [
    "# Predictor variables are separated\n",
    "\n",
    "## At later stage, we can treat columns with missing values to include in prediction\n",
    "cols = ['userID',\n",
    "        'r_avg_max_rechX_m2',\n",
    "           'r_avg_max_rtlX_m2',\n",
    "           'r_avg_max_rtlX_m1',\n",
    "           'r_avg_max_rechX_m1',\n",
    "           'r_avg_max_rtlX_m0',\n",
    "           'r_avg_max_rechX_m0',\n",
    "        'targetid'\n",
    "       ]\n",
    "X = df.drop(columns = cols)\n",
    "y = df.targetid"
   ]
  },
  {
   "cell_type": "code",
   "execution_count": 9,
   "id": "ef17f218",
   "metadata": {},
   "outputs": [
    {
     "name": "stdout",
     "output_type": "stream",
     "text": [
      "(36000, 104) (9000, 104) (36000,) (9000,)\n"
     ]
    }
   ],
   "source": [
    "X_train, X_test, y_train, y_test = train_test_split(X, y,\n",
    "                                                    stratify=y, \n",
    "                                                    test_size=0.2)\n",
    "print(X_train.shape, X_test.shape, y_train.shape, y_test.shape)"
   ]
  },
  {
   "cell_type": "code",
   "execution_count": 10,
   "id": "1fc8c931",
   "metadata": {},
   "outputs": [],
   "source": [
    "standard_scaler = StandardScaler(with_mean=False)\n",
    "standard_scaler.fit(X_train)\n",
    "\n",
    "# scale training set\n",
    "X_train = standard_scaler.transform(X_train)\n",
    "# scale test set\n",
    "X_test = standard_scaler.transform(X_test)"
   ]
  },
  {
   "cell_type": "markdown",
   "id": "2a097c9d",
   "metadata": {},
   "source": [
    "## Modeling"
   ]
  },
  {
   "cell_type": "markdown",
   "id": "a8606ac7",
   "metadata": {},
   "source": [
    "#### Define functions for plots"
   ]
  },
  {
   "cell_type": "code",
   "execution_count": 11,
   "id": "f85f4d9f",
   "metadata": {},
   "outputs": [],
   "source": [
    "def plot_confusion_matrix(y_test, y_pred):\n",
    "    '''\n",
    "    plot confusion matrix for given actual and predicted values\n",
    "    '''\n",
    "    \n",
    "    # get confusion matrix and display \n",
    "    (tn, fp, fn, tp) = confusion_matrix(y_test,y_pred).ravel()\n",
    "    cm =np.array([[tp, fp],[fn, tn]])\n",
    "\n",
    "    # display churn vs no churn matrix\n",
    "    disp = ConfusionMatrixDisplay(confusion_matrix=cm, display_labels=['Churn', 'No Churn'])\n",
    "    disp.plot(xticks_rotation='vertical', colorbar=False, cmap='Greens')\n",
    "    disp.ax_.set_xlabel(\"Actual\")\n",
    "    disp.ax_.set_ylabel(\"Predicted\")\n",
    "    disp.ax_.xaxis.set_label_position('top')\n",
    "    plt.show()\n",
    "    \n",
    "\n",
    "def roc_train_test(fpr_ts, tpr_ts, fpr_tr, tpr_tr):\n",
    "    roc_auc_ts = auc(fpr_ts, tpr_ts)\n",
    "    roc_auc_tr = auc(fpr_tr, tpr_tr)\n",
    "\n",
    "    fig = plt.figure(figsize= (14,6))\n",
    "    plt.grid(visible=True, which='major', color='grey', linestyle='-')\n",
    "    plt.plot(fpr_ts, tpr_ts, color='green', lw=1, label='Test ROC Curve (area = %0.3f)' % roc_auc_ts)\n",
    "    plt.plot(fpr_tr, tpr_tr, color='red', lw=1, label='Train Set ROC Curve (area = %0.3f)' % roc_auc_tr)\n",
    "    plt.plot([0, 1], [0, 1], color='navy', lw=1, linestyle='--')\n",
    "    plt.xlim([0.0, 1.0])\n",
    "    plt.ylim([0.0, 1.05])\n",
    "    plt.xlabel('False Positive Rate')\n",
    "    plt.ylabel('True Positive Rate')\n",
    "    plt.title('Receiver operating characteristic (ROC) Curve')\n",
    "    plt.legend(loc=\"lower right\",prop={'size': 22})\n",
    "    plt.show()"
   ]
  },
  {
   "cell_type": "markdown",
   "id": "4ed129d1",
   "metadata": {},
   "source": [
    "### Random Forest Classifier"
   ]
  },
  {
   "cell_type": "code",
   "execution_count": 12,
   "id": "32f99f17",
   "metadata": {},
   "outputs": [
    {
     "data": {
      "text/plain": [
       "RandomForestClassifier()"
      ]
     },
     "execution_count": 12,
     "metadata": {},
     "output_type": "execute_result"
    }
   ],
   "source": [
    "rf_clf = RandomForestClassifier()\n",
    "rf_clf.fit(X_train, y_train)"
   ]
  },
  {
   "cell_type": "code",
   "execution_count": 22,
   "id": "959bb0f0",
   "metadata": {},
   "outputs": [
    {
     "data": {
      "image/png": "[encoded data removed]",
      "text/plain": [
       "<Figure size 1008x432 with 1 Axes>"
      ]
     },
     "metadata": {
      "needs_background": "light"
     },
     "output_type": "display_data"
    }
   ],
   "source": [
    "y_pred_prob = rf_clf.predict_proba(X_test).T[1]\n",
    "fpr_test, tpr_test, threshold = roc_curve(y_test, y_pred_prob)\n",
    "  \n",
    "pred_prob_train = rf_clf.predict_proba(X_train).T[1]\n",
    "fpr_train, tpr_train, threshold_train = roc_curve(y_train, pred_prob_train)\n",
    "\n",
    "roc_train_test(fpr_test, tpr_test,fpr_train, tpr_train)"
   ]
  },
  {
   "cell_type": "code",
   "execution_count": 14,
   "id": "bb37fd81",
   "metadata": {},
   "outputs": [
    {
     "data": {
      "image/png": "[encoded data removed]",
      "text/plain": [
       "<Figure size 432x288 with 1 Axes>"
      ]
     },
     "metadata": {
      "needs_background": "light"
     },
     "output_type": "display_data"
    },
    {
     "data": {
      "text/html": [
       "<div>\n",
       "<style scoped>\n",
       "    .dataframe tbody tr th:only-of-type {\n",
       "        vertical-align: middle;\n",
       "    }\n",
       "\n",
       "    .dataframe tbody tr th {\n",
       "        vertical-align: top;\n",
       "    }\n",
       "\n",
       "    .dataframe thead th {\n",
       "        text-align: right;\n",
       "    }\n",
       "</style>\n",
       "<table border=\"1\" class=\"dataframe\">\n",
       "  <thead>\n",
       "    <tr style=\"text-align: right;\">\n",
       "      <th></th>\n",
       "      <th>Confusion Matrix</th>\n",
       "    </tr>\n",
       "  </thead>\n",
       "  <tbody>\n",
       "    <tr>\n",
       "      <th>Precision</th>\n",
       "      <td>0.506751</td>\n",
       "    </tr>\n",
       "    <tr>\n",
       "      <th>Recall</th>\n",
       "      <td>0.921440</td>\n",
       "    </tr>\n",
       "    <tr>\n",
       "      <th>F1 Score</th>\n",
       "      <td>0.653891</td>\n",
       "    </tr>\n",
       "  </tbody>\n",
       "</table>\n",
       "</div>"
      ],
      "text/plain": [
       "           Confusion Matrix\n",
       "Precision          0.506751\n",
       "Recall             0.921440\n",
       "F1 Score           0.653891"
      ]
     },
     "execution_count": 14,
     "metadata": {},
     "output_type": "execute_result"
    }
   ],
   "source": [
    "# plot confusion matrix with threshold set\n",
    "opt_threshold = round(threshold[np.argmax(tpr_test-fpr_test)], ndigits = 4)\n",
    "y_pred = (rf_clf.predict_proba(X_test)[:,1] >= opt_threshold)\n",
    "plot_confusion_matrix(y_test, y_pred)\n",
    "\n",
    "# Get Precision Recall\n",
    "pd.DataFrame(precision_recall_fscore_support(y_test, y_pred, average='binary')[:3],\n",
    "columns=['Confusion Matrix'],\n",
    "index=['Precision', 'Recall', 'F1 Score'])"
   ]
  },
  {
   "cell_type": "markdown",
   "id": "5af4ee02",
   "metadata": {},
   "source": [
    "### Support Vector Machines"
   ]
  },
  {
   "cell_type": "code",
   "execution_count": null,
   "id": "96a0f786",
   "metadata": {},
   "outputs": [],
   "source": [
    "%%time\n",
    "svc_clf = SVC(kernel='rbf', probability=True)\n",
    "svc_clf.fit(X_train, y_train)"
   ]
  },
  {
   "cell_type": "code",
   "execution_count": null,
   "id": "1003a614",
   "metadata": {},
   "outputs": [],
   "source": [
    "y_pred_prob = svc_clf.predict_proba(X_test).T[1]\n",
    "fpr_test, tpr_test, threshold = roc_curve(y_test, y_pred_prob)\n",
    "  \n",
    "pred_prob_train = rf_clf.predict_proba(X_train).T[1]\n",
    "fpr_train, tpr_train, threshold_train = roc_curve(y_train, pred_prob_train)\n",
    "\n",
    "roc_train_test(fpr_test, tpr_test,fpr_train, tpr_train)"
   ]
  },
  {
   "cell_type": "code",
   "execution_count": null,
   "id": "5652901a",
   "metadata": {},
   "outputs": [],
   "source": [
    "opt_threshold = round(threshold[np.argmax(tpr_test-fpr_test)], ndigits = 4)\n",
    "y_pred = (svc_clf.predict_proba(X_test)[:,1] >= opt_threshold)\n",
    "plot_confusion_matrix(y_test, y_pred)\n",
    "\n",
    "# Get Precision Recall\n",
    "pd.DataFrame(precision_recall_fscore_support(y_test, y_pred, average='binary')[:3],\n",
    "columns=['Confusion Matrix'],\n",
    "index=['Precision', 'Recall', 'F1 Score'])"
   ]
  },
  {
   "cell_type": "markdown",
   "id": "f17ace65",
   "metadata": {},
   "source": [
    "## Handle class imbalance"
   ]
  },
  {
   "cell_type": "markdown",
   "id": "5e27217a",
   "metadata": {},
   "source": [
    "### Balanced Bagging Classifier"
   ]
  },
  {
   "cell_type": "code",
   "execution_count": 15,
   "id": "3b96d574",
   "metadata": {},
   "outputs": [
    {
     "data": {
      "text/plain": [
       "BalancedBaggingClassifier(base_estimator=DecisionTreeClassifier(),\n",
       "                          random_state=0)"
      ]
     },
     "execution_count": 15,
     "metadata": {},
     "output_type": "execute_result"
    }
   ],
   "source": [
    "bbc = BalancedBaggingClassifier(base_estimator=DecisionTreeClassifier(),\n",
    "                                sampling_strategy='auto',\n",
    "                                replacement=False,\n",
    "                                random_state=0)\n",
    "bbc.fit(X_train, y_train)"
   ]
  },
  {
   "cell_type": "code",
   "execution_count": 16,
   "id": "8d30a6c7",
   "metadata": {},
   "outputs": [
    {
     "data": {
      "image/png": "[encoded data removed]",
      "text/plain": [
       "<Figure size 1008x432 with 1 Axes>"
      ]
     },
     "metadata": {
      "needs_background": "light"
     },
     "output_type": "display_data"
    }
   ],
   "source": [
    "y_pred_prob = bbc.predict_proba(X_test).T[1]\n",
    "fpr_test, tpr_test, threshold = roc_curve(y_test, y_pred_prob)\n",
    "  \n",
    "pred_prob_train = bbc.predict_proba(X_train).T[1]\n",
    "fpr_train, tpr_train, threshold_train = roc_curve(y_train, pred_prob_train)\n",
    "\n",
    "pred = bbc.predict(X_test) \n",
    "\n",
    "roc_train_test(fpr_test, tpr_test,fpr_train, tpr_train)"
   ]
  },
  {
   "cell_type": "code",
   "execution_count": 17,
   "id": "d1c76a28",
   "metadata": {},
   "outputs": [
    {
     "data": {
      "image/png": "[encoded data removed]",
      "text/plain": [
       "<Figure size 432x288 with 1 Axes>"
      ]
     },
     "metadata": {
      "needs_background": "light"
     },
     "output_type": "display_data"
    },
    {
     "data": {
      "text/html": [
       "<div>\n",
       "<style scoped>\n",
       "    .dataframe tbody tr th:only-of-type {\n",
       "        vertical-align: middle;\n",
       "    }\n",
       "\n",
       "    .dataframe tbody tr th {\n",
       "        vertical-align: top;\n",
       "    }\n",
       "\n",
       "    .dataframe thead th {\n",
       "        text-align: right;\n",
       "    }\n",
       "</style>\n",
       "<table border=\"1\" class=\"dataframe\">\n",
       "  <thead>\n",
       "    <tr style=\"text-align: right;\">\n",
       "      <th></th>\n",
       "      <th>Confusion Matrix</th>\n",
       "    </tr>\n",
       "  </thead>\n",
       "  <tbody>\n",
       "    <tr>\n",
       "      <th>Precision</th>\n",
       "      <td>0.509519</td>\n",
       "    </tr>\n",
       "    <tr>\n",
       "      <th>Recall</th>\n",
       "      <td>0.919804</td>\n",
       "    </tr>\n",
       "    <tr>\n",
       "      <th>F1 Score</th>\n",
       "      <td>0.655776</td>\n",
       "    </tr>\n",
       "  </tbody>\n",
       "</table>\n",
       "</div>"
      ],
      "text/plain": [
       "           Confusion Matrix\n",
       "Precision          0.509519\n",
       "Recall             0.919804\n",
       "F1 Score           0.655776"
      ]
     },
     "execution_count": 17,
     "metadata": {},
     "output_type": "execute_result"
    }
   ],
   "source": [
    "# plot confusion matrix with threshold set\n",
    "opt_threshold = round(threshold[np.argmax(tpr_test-fpr_test)], ndigits = 4)\n",
    "y_pred = (bbc.predict_proba(X_test)[:,1] >= opt_threshold)\n",
    "plot_confusion_matrix(y_test, y_pred)\n",
    "\n",
    "# Get Precision Recall\n",
    "pd.DataFrame(precision_recall_fscore_support(y_test, y_pred, average='binary')[:3],\n",
    "columns=['Confusion Matrix'],\n",
    "index=['Precision', 'Recall', 'F1 Score'])"
   ]
  },
  {
   "cell_type": "markdown",
   "id": "8ecd1cfd",
   "metadata": {},
   "source": [
    "## Validation Set Prediction"
   ]
  },
  {
   "cell_type": "code",
   "execution_count": 19,
   "id": "f9089e76",
   "metadata": {},
   "outputs": [
    {
     "data": {
      "text/html": [
       "<div>\n",
       "<style scoped>\n",
       "    .dataframe tbody tr th:only-of-type {\n",
       "        vertical-align: middle;\n",
       "    }\n",
       "\n",
       "    .dataframe tbody tr th {\n",
       "        vertical-align: top;\n",
       "    }\n",
       "\n",
       "    .dataframe thead th {\n",
       "        text-align: right;\n",
       "    }\n",
       "</style>\n",
       "<table border=\"1\" class=\"dataframe\">\n",
       "  <thead>\n",
       "    <tr style=\"text-align: right;\">\n",
       "      <th></th>\n",
       "      <th>userID</th>\n",
       "      <th>Contact_ind</th>\n",
       "      <th>Customer_status</th>\n",
       "      <th>ActiveSinceDays</th>\n",
       "      <th>num_AcD_m0</th>\n",
       "      <th>num_AcD_m1</th>\n",
       "      <th>r_AcD_m0_m12</th>\n",
       "      <th>r_AcD_m0_m123</th>\n",
       "      <th>daystofirstload</th>\n",
       "      <th>dayssincelastload</th>\n",
       "      <th>...</th>\n",
       "      <th>InAllRev_m0</th>\n",
       "      <th>InAllRev_m1</th>\n",
       "      <th>InAllRev_m2</th>\n",
       "      <th>r_InAllRev_m0_m1</th>\n",
       "      <th>r_InAllRev_m0_m2</th>\n",
       "      <th>tot_InAllRev_3m</th>\n",
       "      <th>OgAllRev_m0</th>\n",
       "      <th>OgAllRev_m1</th>\n",
       "      <th>OgAllRev_m2</th>\n",
       "      <th>tot_OgAllRev_3m</th>\n",
       "    </tr>\n",
       "  </thead>\n",
       "  <tbody>\n",
       "    <tr>\n",
       "      <th>1790</th>\n",
       "      <td>1791.0</td>\n",
       "      <td>1.0</td>\n",
       "      <td>3.0</td>\n",
       "      <td>649.0</td>\n",
       "      <td>8.0</td>\n",
       "      <td>10.0</td>\n",
       "      <td>59.259259</td>\n",
       "      <td>61.538462</td>\n",
       "      <td>0.0</td>\n",
       "      <td>12.0</td>\n",
       "      <td>...</td>\n",
       "      <td>521.00</td>\n",
       "      <td>2164.67</td>\n",
       "      <td>3042.51</td>\n",
       "      <td>24.057220</td>\n",
       "      <td>17.118393</td>\n",
       "      <td>5728.18</td>\n",
       "      <td>1243.00</td>\n",
       "      <td>3238.78</td>\n",
       "      <td>3696.01</td>\n",
       "      <td>8177.79</td>\n",
       "    </tr>\n",
       "    <tr>\n",
       "      <th>4192</th>\n",
       "      <td>4193.0</td>\n",
       "      <td>1.0</td>\n",
       "      <td>3.0</td>\n",
       "      <td>261.0</td>\n",
       "      <td>4.0</td>\n",
       "      <td>4.0</td>\n",
       "      <td>133.333333</td>\n",
       "      <td>200.000000</td>\n",
       "      <td>0.0</td>\n",
       "      <td>71.0</td>\n",
       "      <td>...</td>\n",
       "      <td>1100.00</td>\n",
       "      <td>4500.00</td>\n",
       "      <td>2756.67</td>\n",
       "      <td>24.439014</td>\n",
       "      <td>39.888747</td>\n",
       "      <td>8356.67</td>\n",
       "      <td>1230.62</td>\n",
       "      <td>3181.19</td>\n",
       "      <td>2803.00</td>\n",
       "      <td>7214.81</td>\n",
       "    </tr>\n",
       "    <tr>\n",
       "      <th>3950</th>\n",
       "      <td>3951.0</td>\n",
       "      <td>1.0</td>\n",
       "      <td>3.0</td>\n",
       "      <td>1145.0</td>\n",
       "      <td>9.0</td>\n",
       "      <td>15.0</td>\n",
       "      <td>72.000000</td>\n",
       "      <td>58.695652</td>\n",
       "      <td>0.0</td>\n",
       "      <td>5.0</td>\n",
       "      <td>...</td>\n",
       "      <td>2726.32</td>\n",
       "      <td>2213.71</td>\n",
       "      <td>726.71</td>\n",
       "      <td>123.100541</td>\n",
       "      <td>374.643745</td>\n",
       "      <td>5666.74</td>\n",
       "      <td>2106.00</td>\n",
       "      <td>3116.00</td>\n",
       "      <td>4048.00</td>\n",
       "      <td>9270.00</td>\n",
       "    </tr>\n",
       "    <tr>\n",
       "      <th>2896</th>\n",
       "      <td>2897.0</td>\n",
       "      <td>1.0</td>\n",
       "      <td>3.0</td>\n",
       "      <td>1131.0</td>\n",
       "      <td>1.0</td>\n",
       "      <td>1.0</td>\n",
       "      <td>66.666667</td>\n",
       "      <td>60.000000</td>\n",
       "      <td>0.0</td>\n",
       "      <td>93.0</td>\n",
       "      <td>...</td>\n",
       "      <td>3960.00</td>\n",
       "      <td>0.00</td>\n",
       "      <td>108.00</td>\n",
       "      <td>396000.000000</td>\n",
       "      <td>3633.027523</td>\n",
       "      <td>4068.00</td>\n",
       "      <td>3941.99</td>\n",
       "      <td>0.00</td>\n",
       "      <td>107.24</td>\n",
       "      <td>4049.23</td>\n",
       "    </tr>\n",
       "    <tr>\n",
       "      <th>2809</th>\n",
       "      <td>2810.0</td>\n",
       "      <td>1.0</td>\n",
       "      <td>3.0</td>\n",
       "      <td>331.0</td>\n",
       "      <td>3.0</td>\n",
       "      <td>5.0</td>\n",
       "      <td>60.000000</td>\n",
       "      <td>60.000000</td>\n",
       "      <td>0.0</td>\n",
       "      <td>8.0</td>\n",
       "      <td>...</td>\n",
       "      <td>844.00</td>\n",
       "      <td>460.00</td>\n",
       "      <td>752.00</td>\n",
       "      <td>183.080260</td>\n",
       "      <td>112.084993</td>\n",
       "      <td>2056.00</td>\n",
       "      <td>844.00</td>\n",
       "      <td>460.00</td>\n",
       "      <td>752.00</td>\n",
       "      <td>2056.00</td>\n",
       "    </tr>\n",
       "  </tbody>\n",
       "</table>\n",
       "<p>5 rows × 111 columns</p>\n",
       "</div>"
      ],
      "text/plain": [
       "      userID  Contact_ind  Customer_status  ActiveSinceDays  num_AcD_m0  \\\n",
       "1790  1791.0          1.0              3.0            649.0         8.0   \n",
       "4192  4193.0          1.0              3.0            261.0         4.0   \n",
       "3950  3951.0          1.0              3.0           1145.0         9.0   \n",
       "2896  2897.0          1.0              3.0           1131.0         1.0   \n",
       "2809  2810.0          1.0              3.0            331.0         3.0   \n",
       "\n",
       "      num_AcD_m1  r_AcD_m0_m12  r_AcD_m0_m123  daystofirstload  \\\n",
       "1790        10.0     59.259259      61.538462              0.0   \n",
       "4192         4.0    133.333333     200.000000              0.0   \n",
       "3950        15.0     72.000000      58.695652              0.0   \n",
       "2896         1.0     66.666667      60.000000              0.0   \n",
       "2809         5.0     60.000000      60.000000              0.0   \n",
       "\n",
       "      dayssincelastload  ...  InAllRev_m0  InAllRev_m1  InAllRev_m2  \\\n",
       "1790               12.0  ...       521.00      2164.67      3042.51   \n",
       "4192               71.0  ...      1100.00      4500.00      2756.67   \n",
       "3950                5.0  ...      2726.32      2213.71       726.71   \n",
       "2896               93.0  ...      3960.00         0.00       108.00   \n",
       "2809                8.0  ...       844.00       460.00       752.00   \n",
       "\n",
       "      r_InAllRev_m0_m1  r_InAllRev_m0_m2  tot_InAllRev_3m  OgAllRev_m0  \\\n",
       "1790         24.057220         17.118393          5728.18      1243.00   \n",
       "4192         24.439014         39.888747          8356.67      1230.62   \n",
       "3950        123.100541        374.643745          5666.74      2106.00   \n",
       "2896     396000.000000       3633.027523          4068.00      3941.99   \n",
       "2809        183.080260        112.084993          2056.00       844.00   \n",
       "\n",
       "      OgAllRev_m1  OgAllRev_m2  tot_OgAllRev_3m  \n",
       "1790      3238.78      3696.01          8177.79  \n",
       "4192      3181.19      2803.00          7214.81  \n",
       "3950      3116.00      4048.00          9270.00  \n",
       "2896         0.00       107.24          4049.23  \n",
       "2809       460.00       752.00          2056.00  \n",
       "\n",
       "[5 rows x 111 columns]"
      ]
     },
     "execution_count": 19,
     "metadata": {},
     "output_type": "execute_result"
    }
   ],
   "source": [
    "df_valid = pd.read_excel('DS_Assignment_Validation_Set (1).xlsx')\n",
    "df_valid.sample(5)"
   ]
  },
  {
   "cell_type": "code",
   "execution_count": 21,
   "id": "937941a1",
   "metadata": {},
   "outputs": [
    {
     "data": {
      "text/plain": [
       "StandardScaler(with_mean=False)"
      ]
     },
     "execution_count": 21,
     "metadata": {},
     "output_type": "execute_result"
    }
   ],
   "source": [
    "cols = ['userID',\n",
    "        'r_avg_max_rechX_m2',\n",
    "           'r_avg_max_rtlX_m2',\n",
    "           'r_avg_max_rtlX_m1',\n",
    "           'r_avg_max_rechX_m1',\n",
    "           'r_avg_max_rtlX_m0',\n",
    "           'r_avg_max_rechX_m0'\n",
    "       ]\n",
    "df_valid = df_valid.drop(columns = cols)\n",
    "standard_scaler.fit(df_valid)"
   ]
  },
  {
   "cell_type": "code",
   "execution_count": 31,
   "id": "46bb0cd2",
   "metadata": {},
   "outputs": [],
   "source": [
    "df_valid.fillna(df.mean(), inplace=True)"
   ]
  },
  {
   "cell_type": "code",
   "execution_count": 32,
   "id": "9784f7c7",
   "metadata": {},
   "outputs": [
    {
     "name": "stderr",
     "output_type": "stream",
     "text": [
      "/Users/anmol/opt/anaconda3/envs/indus/lib/python3.8/site-packages/sklearn/base.py:443: UserWarning: X has feature names, but RandomForestClassifier was fitted without feature names\n",
      "  warnings.warn(\n"
     ]
    },
    {
     "data": {
      "text/plain": [
       "array([ True,  True,  True, ...,  True,  True,  True])"
      ]
     },
     "execution_count": 32,
     "metadata": {},
     "output_type": "execute_result"
    }
   ],
   "source": [
    "y_valid_pred = (rf_clf.predict_proba(df_valid)[:,1] >= opt_threshold)\n",
    "y_valid_pred"
   ]
  },
  {
   "cell_type": "code",
   "execution_count": 39,
   "id": "f023f12f",
   "metadata": {},
   "outputs": [
    {
     "data": {
      "text/plain": [
       "['userID',\n",
       " 'Contact_ind',\n",
       " 'Customer_status',\n",
       " 'ActiveSinceDays',\n",
       " 'num_AcD_m0',\n",
       " 'num_AcD_m1',\n",
       " 'r_AcD_m0_m12',\n",
       " 'r_AcD_m0_m123',\n",
       " 'daystofirstload',\n",
       " 'dayssincelastload',\n",
       " 'tot_RevUo_m0',\n",
       " 'tot_RevUo_m1',\n",
       " 'tot_RevUo_m2',\n",
       " 'r_tot_RevUo_m0_m1',\n",
       " 'r_tot_RevUo_m1_m2',\n",
       " 'r_tot_RevUo_m0_m12',\n",
       " 'avg_RevUo_m0',\n",
       " 'avg_RevUo_m1',\n",
       " 'avg_RevUo_m2',\n",
       " 'chg_RevUo_l0_1m',\n",
       " 'chg_RevUo_l1_2m',\n",
       " 'chg_RevUo_l2_3m',\n",
       " 'tot_LdCnt_m0',\n",
       " 'tot_LdCnt_m1',\n",
       " 'tot_LdCnt_m2',\n",
       " 'max_RevUo_m0',\n",
       " 'max_RevUo_m1',\n",
       " 'max_RevUo_m2',\n",
       " 'r_avg_RevUo_m0_m1',\n",
       " 'r_avg_RevUo_m1_m2',\n",
       " 'avgdays_btw_loads_l6',\n",
       " 'tot_failed_LdTxnCnt_3m',\n",
       " 'r_failed_LdTxnCnt_m0_m12',\n",
       " 'tot_rtlX_m0',\n",
       " 'tot_rtlX_m1',\n",
       " 'tot_rtlX_m2',\n",
       " 'r_tot_rtlX_m0_m1',\n",
       " 'r_tot_rtlX_m1_m2',\n",
       " 'r_tot_rtlX_m0_m12',\n",
       " 'avg_rtlX_m0',\n",
       " 'avg_rtlX_m1',\n",
       " 'avg_rtlX_m2',\n",
       " 'max_rtlX_m0',\n",
       " 'max_rtlX_m1',\n",
       " 'max_rtlX_m2',\n",
       " 'r_avg_max_rtlX_m0',\n",
       " 'r_avg_max_rtlX_m1',\n",
       " 'r_avg_max_rtlX_m2',\n",
       " 'RtlTxns_cnt_m0',\n",
       " 'RtlTxns_cnt_m1',\n",
       " 'RtlTxns_cnt_m2',\n",
       " 'r_RtlTxns_cnt_m0_m1',\n",
       " 'r_RtlTxns_cnt_m1_m2',\n",
       " 'sum_r_RtlTxns_cnt',\n",
       " 'fail_RtlTxncnt_m0',\n",
       " 'RtlTxn_dayscnt_m0',\n",
       " 'RtlTxn_dayscnt_m1',\n",
       " 'RtlTxn_dayscnt_m2',\n",
       " 'tot_rechX_m0',\n",
       " 'tot_rechX_m1',\n",
       " 'tot_rechX_m2',\n",
       " 'chg_rechX_l0_1m',\n",
       " 'chg_rechX_l1_2m',\n",
       " 'avg_rechX_m0',\n",
       " 'avg_rechX_m1',\n",
       " 'avg_rechX_m2',\n",
       " 'max_rechX_m0',\n",
       " 'max_rechX_m1',\n",
       " 'max_rechX_m2',\n",
       " 'r_avg_max_rechX_m0',\n",
       " 'r_avg_max_rechX_m1',\n",
       " 'r_avg_max_rechX_m2',\n",
       " 'rechtxns_cnt_m0',\n",
       " 'rechtxns_cnt_m1',\n",
       " 'rechtxns_cnt_m2',\n",
       " 'rechtxn_dayscnt_m0',\n",
       " 'rechtxn_dayscnt_m1',\n",
       " 'rechtxn_dayscnt_m2',\n",
       " 'billX_amt_m0',\n",
       " 'billX_amt_m1',\n",
       " 'billX_amt_m2',\n",
       " 'tot_billX_amt_m012',\n",
       " 'r_billX_amt_m0_m1',\n",
       " 'r_billX_amt_m0_m12',\n",
       " 'r_billX_amt_m1_m2',\n",
       " 'billX_cnt_m0',\n",
       " 'billX_cnt_m1',\n",
       " 'billX_cnt_m2',\n",
       " 'rech_amt_m0',\n",
       " 'rech_amt_m1',\n",
       " 'rech_amt_m2',\n",
       " 'r_rech_amt_m0_m1',\n",
       " 'r_rech_amt_m1_m2',\n",
       " 'sum_r_rech_amt_m1m2_m0m1',\n",
       " 'r_rech_amt_m0_m12',\n",
       " 'avgbal_m0',\n",
       " 'avgbal_m1',\n",
       " 'avgbal_m2',\n",
       " 'resolved_cnt_m2',\n",
       " 'tot_resolved_cnt_m012',\n",
       " 'percent_resolved_3m',\n",
       " 'InAllRev_m0',\n",
       " 'InAllRev_m1',\n",
       " 'InAllRev_m2',\n",
       " 'r_InAllRev_m0_m1',\n",
       " 'r_InAllRev_m0_m2',\n",
       " 'tot_InAllRev_3m',\n",
       " 'OgAllRev_m0',\n",
       " 'OgAllRev_m1',\n",
       " 'OgAllRev_m2',\n",
       " 'tot_OgAllRev_3m',\n",
       " 'targetid']"
      ]
     },
     "execution_count": 39,
     "metadata": {},
     "output_type": "execute_result"
    }
   ],
   "source": [
    "list(df.dtypes.index)"
   ]
  },
  {
   "cell_type": "code",
   "execution_count": null,
   "id": "8728c86a",
   "metadata": {},
   "outputs": [],
   "source": []
  }
 ],
 "metadata": {
  "kernelspec": {
   "display_name": "Python 3 (ipykernel)",
   "language": "python",
   "name": "python3"
  },
  "language_info": {
   "codemirror_mode": {
    "name": "ipython",
    "version": 3
   },
   "file_extension": ".py",
   "mimetype": "text/x-python",
   "name": "python",
   "nbconvert_exporter": "python",
   "pygments_lexer": "ipython3",
   "version": "3.8.13"
  }
 },
 "nbformat": 4,
 "nbformat_minor": 5
}
